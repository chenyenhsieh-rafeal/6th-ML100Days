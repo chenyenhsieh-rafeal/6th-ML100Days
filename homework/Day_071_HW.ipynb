{
 "cells": [
  {
   "cell_type": "markdown",
   "metadata": {
    "colab_type": "text",
    "id": "cj4tE8e8iUtO"
   },
   "source": [
    "#   \n",
    "\n",
    "# 作業目標:\n",
    "\n",
    "    1. 藉由固定的 dataset, 來驗證不同loss function\n",
    "    2. Dataset 的特性跟我們選用的loss function 對accrancy 的影響\n",
    "    \n",
    "    \n",
    "# 作業重點: \n",
    "    請分別選用 \"MSE\", \"binary _crossentropy\"\n",
    "    查看Train/test accurancy and loss rate\n",
    "    "
   ]
  },
  {
   "cell_type": "markdown",
   "metadata": {
    "colab_type": "text",
    "id": "R51J4KyyiUsL"
   },
   "source": [
    "# 導入必要的函數"
   ]
  },
  {
   "cell_type": "code",
   "execution_count": 1,
   "metadata": {
    "colab": {},
    "colab_type": "code",
    "id": "Qd68OQjciUsM"
   },
   "outputs": [],
   "source": [
    "from keras.datasets import cifar10\n",
    "import numpy as np\n",
    "np.random.seed(10)"
   ]
  },
  {
   "cell_type": "markdown",
   "metadata": {
    "colab_type": "text",
    "id": "GxKuzQLQiUsP"
   },
   "source": [
    "# 資料準備"
   ]
  },
  {
   "cell_type": "code",
   "execution_count": 2,
   "metadata": {
    "colab": {},
    "colab_type": "code",
    "id": "MIbFZdTCiUsQ"
   },
   "outputs": [],
   "source": [
    "#取得Keras Dataset\n",
    "(x_img_train,y_label_train),(x_img_test,y_label_test)=cifar10.load_data()"
   ]
  },
  {
   "cell_type": "code",
   "execution_count": 3,
   "metadata": {
    "colab": {},
    "colab_type": "code",
    "id": "J8CJVjNOiUsS"
   },
   "outputs": [
    {
     "name": "stdout",
     "output_type": "stream",
     "text": [
      "train data: images: (50000, 32, 32, 3)  labels: (50000, 1)\n",
      "test  data: images: (10000, 32, 32, 3)  labels: (10000, 1)\n"
     ]
    }
   ],
   "source": [
    "#確認 CIFAR10 Dataset 資料維度\n",
    "print(\"train data:\",'images:',x_img_train.shape,\n",
    "      \" labels:\",y_label_train.shape) \n",
    "print(\"test  data:\",'images:',x_img_test.shape ,\n",
    "      \" labels:\",y_label_test.shape) "
   ]
  },
  {
   "cell_type": "code",
   "execution_count": 4,
   "metadata": {
    "colab": {},
    "colab_type": "code",
    "id": "V3P6P4DXiUsV"
   },
   "outputs": [],
   "source": [
    "#資料正規化\n",
    "x_img_train_normalize = x_img_train.astype('float32') / 255.0\n",
    "x_img_test_normalize = x_img_test.astype('float32') / 255.0"
   ]
  },
  {
   "cell_type": "code",
   "execution_count": 5,
   "metadata": {
    "colab": {},
    "colab_type": "code",
    "id": "vsDyjKYliUsX"
   },
   "outputs": [
    {
     "data": {
      "text/plain": [
       "(10000, 10)"
      ]
     },
     "execution_count": 5,
     "metadata": {},
     "output_type": "execute_result"
    }
   ],
   "source": [
    "#針對Label 做 ONE HOT ENCODE\n",
    "from keras.utils import np_utils\n",
    "y_label_train_OneHot = np_utils.to_categorical(y_label_train)\n",
    "y_label_test_OneHot = np_utils.to_categorical(y_label_test)\n",
    "y_label_test_OneHot.shape"
   ]
  },
  {
   "cell_type": "markdown",
   "metadata": {
    "colab_type": "text",
    "id": "RutW2OtgiUsZ"
   },
   "source": [
    "# 建立模型"
   ]
  },
  {
   "cell_type": "code",
   "execution_count": 6,
   "metadata": {
    "colab": {},
    "colab_type": "code",
    "id": "aHz592aXiUsa"
   },
   "outputs": [],
   "source": [
    "from keras.models import Sequential\n",
    "from keras.layers import Dense, Dropout, Activation, Flatten\n",
    "from keras.layers import Conv2D, MaxPooling2D, ZeroPadding2D"
   ]
  },
  {
   "cell_type": "code",
   "execution_count": 7,
   "metadata": {
    "colab": {},
    "colab_type": "code",
    "id": "hslqrIp0iUse"
   },
   "outputs": [],
   "source": [
    "model = Sequential()"
   ]
  },
  {
   "cell_type": "code",
   "execution_count": 8,
   "metadata": {
    "colab": {},
    "colab_type": "code",
    "id": "Hqe35hs2iUsi"
   },
   "outputs": [],
   "source": [
    "#卷積層1與池化層1，並針對過擬合的狀況預先處理(Dropout)"
   ]
  },
  {
   "cell_type": "code",
   "execution_count": 9,
   "metadata": {
    "colab": {},
    "colab_type": "code",
    "id": "ED7dqe1YiUsm"
   },
   "outputs": [],
   "source": [
    "model.add(Conv2D(filters=32,kernel_size=(3,3),\n",
    "                 input_shape=(32, 32,3), \n",
    "                 activation='relu', \n",
    "                 padding='same'))\n",
    "model.add(Dropout(rate=0.25))\n",
    "model.add(MaxPooling2D(pool_size=(2, 2)))"
   ]
  },
  {
   "cell_type": "code",
   "execution_count": 10,
   "metadata": {
    "colab": {},
    "colab_type": "code",
    "id": "nawlkt55iUsy"
   },
   "outputs": [],
   "source": [
    "#卷積層2與池化層2，並針對過擬合的狀況預先處理(Dropout)"
   ]
  },
  {
   "cell_type": "code",
   "execution_count": 11,
   "metadata": {
    "colab": {},
    "colab_type": "code",
    "id": "xxyETiKNiUs1"
   },
   "outputs": [],
   "source": [
    "model.add(Conv2D(filters=64, kernel_size=(3, 3), \n",
    "                 activation='relu', padding='same'))\n",
    "model.add(Dropout(0.25))\n",
    "model.add(MaxPooling2D(pool_size=(2, 2)))"
   ]
  },
  {
   "cell_type": "code",
   "execution_count": 12,
   "metadata": {
    "colab": {},
    "colab_type": "code",
    "id": "LpkppB2siUs7"
   },
   "outputs": [],
   "source": [
    "#建立神經網路(平坦層、隱藏層、輸出層)"
   ]
  },
  {
   "cell_type": "code",
   "execution_count": 13,
   "metadata": {
    "colab": {},
    "colab_type": "code",
    "id": "UQOfU54_iUs_"
   },
   "outputs": [],
   "source": [
    "model.add(Flatten())\n",
    "model.add(Dropout(rate=0.25))"
   ]
  },
  {
   "cell_type": "code",
   "execution_count": 14,
   "metadata": {},
   "outputs": [],
   "source": [
    "#建立全網路連接層"
   ]
  },
  {
   "cell_type": "code",
   "execution_count": 15,
   "metadata": {
    "colab": {},
    "colab_type": "code",
    "id": "_NV-8sq4iUtD"
   },
   "outputs": [],
   "source": [
    "model.add(Dense(1024, activation='relu'))\n",
    "model.add(Dropout(rate=0.25))"
   ]
  },
  {
   "cell_type": "code",
   "execution_count": 16,
   "metadata": {},
   "outputs": [],
   "source": [
    "#建立輸出層"
   ]
  },
  {
   "cell_type": "code",
   "execution_count": 17,
   "metadata": {
    "colab": {},
    "colab_type": "code",
    "id": "qVK77krOiUtF"
   },
   "outputs": [],
   "source": [
    "model.add(Dense(10, activation='softmax'))"
   ]
  },
  {
   "cell_type": "code",
   "execution_count": 18,
   "metadata": {
    "colab": {},
    "colab_type": "code",
    "id": "ZxzRIjR0iUtH"
   },
   "outputs": [
    {
     "name": "stdout",
     "output_type": "stream",
     "text": [
      "Model: \"sequential\"\n",
      "_________________________________________________________________\n",
      "Layer (type)                 Output Shape              Param #   \n",
      "=================================================================\n",
      "conv2d (Conv2D)              (None, 32, 32, 32)        896       \n",
      "_________________________________________________________________\n",
      "dropout (Dropout)            (None, 32, 32, 32)        0         \n",
      "_________________________________________________________________\n",
      "max_pooling2d (MaxPooling2D) (None, 16, 16, 32)        0         \n",
      "_________________________________________________________________\n",
      "conv2d_1 (Conv2D)            (None, 16, 16, 64)        18496     \n",
      "_________________________________________________________________\n",
      "dropout_1 (Dropout)          (None, 16, 16, 64)        0         \n",
      "_________________________________________________________________\n",
      "max_pooling2d_1 (MaxPooling2 (None, 8, 8, 64)          0         \n",
      "_________________________________________________________________\n",
      "flatten (Flatten)            (None, 4096)              0         \n",
      "_________________________________________________________________\n",
      "dropout_2 (Dropout)          (None, 4096)              0         \n",
      "_________________________________________________________________\n",
      "dense (Dense)                (None, 1024)              4195328   \n",
      "_________________________________________________________________\n",
      "dropout_3 (Dropout)          (None, 1024)              0         \n",
      "_________________________________________________________________\n",
      "dense_1 (Dense)              (None, 10)                10250     \n",
      "=================================================================\n",
      "Total params: 4,224,970\n",
      "Trainable params: 4,224,970\n",
      "Non-trainable params: 0\n",
      "_________________________________________________________________\n",
      "None\n"
     ]
    }
   ],
   "source": [
    "#檢查model 的STACK\n",
    "print(model.summary())"
   ]
  },
  {
   "cell_type": "markdown",
   "metadata": {
    "colab_type": "text",
    "id": "QJCtpJM0iUtJ"
   },
   "source": [
    "# 載入之前訓練的模型"
   ]
  },
  {
   "cell_type": "code",
   "execution_count": 19,
   "metadata": {
    "colab": {},
    "colab_type": "code",
    "id": "JU3A6NzQiUtK"
   },
   "outputs": [
    {
     "name": "stdout",
     "output_type": "stream",
     "text": [
      "載入模型失敗!開始訓練一個新模型\n"
     ]
    }
   ],
   "source": [
    "try:\n",
    "    model.load_weights(\"SaveModel/cifarCnnModel.h5\")\n",
    "    print(\"載入模型成功!繼續訓練模型\")\n",
    "except :    \n",
    "    print(\"載入模型失敗!開始訓練一個新模型\")"
   ]
  },
  {
   "cell_type": "markdown",
   "metadata": {
    "colab_type": "text",
    "id": "qBbCuziziUtM"
   },
   "source": [
    "# 訓練模型"
   ]
  },
  {
   "cell_type": "code",
   "execution_count": 20,
   "metadata": {
    "colab": {},
    "colab_type": "code",
    "id": "Q6BiBcseiUtP"
   },
   "outputs": [
    {
     "data": {
      "text/plain": [
       "'\\n作業:\\n請分別選用 \"MSE\", \"binary _crossentropy\"\\n查看Train/test accurancy and loss rate\\n'"
      ]
     },
     "execution_count": 20,
     "metadata": {},
     "output_type": "execute_result"
    }
   ],
   "source": [
    "model.compile(loss='categorical_crossentropy', optimizer='sgd', metrics=['accuracy'])\n",
    "model_MSE = model\n",
    "model_bc = model\n",
    "model_MSE.compile(loss='MSE', optimizer='sgd', metrics=['accuracy'])\n",
    "model_bc.compile(loss='binary_crossentropy', optimizer='sgd', metrics=['accuracy'])\n",
    "\n",
    "'''\n",
    "作業:\n",
    "請分別選用 \"MSE\", \"binary _crossentropy\"\n",
    "查看Train/test accurancy and loss rate\n",
    "'''"
   ]
  },
  {
   "cell_type": "code",
   "execution_count": 21,
   "metadata": {
    "colab": {},
    "colab_type": "code",
    "id": "4-GdDgmQiUtS"
   },
   "outputs": [
    {
     "name": "stdout",
     "output_type": "stream",
     "text": [
      "Epoch 1/12\n",
      "293/293 [==============================] - 43s 148ms/step - loss: 0.3248 - accuracy: 0.1255 - val_loss: 0.3215 - val_accuracy: 0.1708\n",
      "Epoch 2/12\n",
      "293/293 [==============================] - 46s 157ms/step - loss: 0.3195 - accuracy: 0.1637 - val_loss: 0.3184 - val_accuracy: 0.2302\n",
      "Epoch 3/12\n",
      "293/293 [==============================] - 51s 174ms/step - loss: 0.3144 - accuracy: 0.1950 - val_loss: 0.3140 - val_accuracy: 0.2546\n",
      "Epoch 4/12\n",
      "293/293 [==============================] - 42s 145ms/step - loss: 0.3079 - accuracy: 0.2238 - val_loss: 0.3085 - val_accuracy: 0.2886\n",
      "Epoch 5/12\n",
      "293/293 [==============================] - 40s 136ms/step - loss: 0.3014 - accuracy: 0.2415 - val_loss: 0.3029 - val_accuracy: 0.2893\n",
      "Epoch 6/12\n",
      "293/293 [==============================] - 40s 137ms/step - loss: 0.2955 - accuracy: 0.2632 - val_loss: 0.2982 - val_accuracy: 0.3014\n",
      "Epoch 7/12\n",
      "293/293 [==============================] - 40s 137ms/step - loss: 0.2912 - accuracy: 0.2765 - val_loss: 0.2944 - val_accuracy: 0.3074\n",
      "Epoch 8/12\n",
      "293/293 [==============================] - 40s 136ms/step - loss: 0.2880 - accuracy: 0.2869 - val_loss: 0.2922 - val_accuracy: 0.3243\n",
      "Epoch 9/12\n",
      "293/293 [==============================] - 40s 137ms/step - loss: 0.2855 - accuracy: 0.2987 - val_loss: 0.2895 - val_accuracy: 0.3354\n",
      "Epoch 10/12\n",
      "293/293 [==============================] - 40s 138ms/step - loss: 0.2826 - accuracy: 0.3119 - val_loss: 0.2871 - val_accuracy: 0.3410\n",
      "Epoch 11/12\n",
      "293/293 [==============================] - 40s 137ms/step - loss: 0.2801 - accuracy: 0.3221 - val_loss: 0.2849 - val_accuracy: 0.3488\n",
      "Epoch 12/12\n",
      "293/293 [==============================] - 40s 138ms/step - loss: 0.2781 - accuracy: 0.3308 - val_loss: 0.2830 - val_accuracy: 0.3582\n",
      "Epoch 1/12\n",
      "293/293 [==============================] - 40s 138ms/step - loss: 0.2754 - accuracy: 0.3375 - val_loss: 0.2809 - val_accuracy: 0.3620\n",
      "Epoch 2/12\n",
      "293/293 [==============================] - 40s 137ms/step - loss: 0.2731 - accuracy: 0.3480 - val_loss: 0.2791 - val_accuracy: 0.3789\n",
      "Epoch 3/12\n",
      "293/293 [==============================] - 40s 137ms/step - loss: 0.2706 - accuracy: 0.3560 - val_loss: 0.2773 - val_accuracy: 0.3814\n",
      "Epoch 4/12\n",
      "293/293 [==============================] - 40s 137ms/step - loss: 0.2689 - accuracy: 0.3593 - val_loss: 0.2754 - val_accuracy: 0.3825\n",
      "Epoch 5/12\n",
      "293/293 [==============================] - 40s 138ms/step - loss: 0.2664 - accuracy: 0.3703 - val_loss: 0.2734 - val_accuracy: 0.3862\n",
      "Epoch 6/12\n",
      "293/293 [==============================] - 40s 136ms/step - loss: 0.2647 - accuracy: 0.3721 - val_loss: 0.2715 - val_accuracy: 0.3974\n",
      "Epoch 7/12\n",
      "293/293 [==============================] - 40s 137ms/step - loss: 0.2623 - accuracy: 0.3790 - val_loss: 0.2698 - val_accuracy: 0.3926\n",
      "Epoch 8/12\n",
      "293/293 [==============================] - 40s 138ms/step - loss: 0.2609 - accuracy: 0.3811 - val_loss: 0.2679 - val_accuracy: 0.4014\n",
      "Epoch 9/12\n",
      "293/293 [==============================] - 40s 137ms/step - loss: 0.2587 - accuracy: 0.3890 - val_loss: 0.2661 - val_accuracy: 0.4062\n",
      "Epoch 10/12\n",
      "293/293 [==============================] - 40s 137ms/step - loss: 0.2568 - accuracy: 0.3954 - val_loss: 0.2648 - val_accuracy: 0.4090\n",
      "Epoch 11/12\n",
      "293/293 [==============================] - 40s 137ms/step - loss: 0.2552 - accuracy: 0.3971 - val_loss: 0.2632 - val_accuracy: 0.4141\n",
      "Epoch 12/12\n",
      "293/293 [==============================] - 40s 137ms/step - loss: 0.2536 - accuracy: 0.3986 - val_loss: 0.2615 - val_accuracy: 0.4190\n",
      "Epoch 1/12\n",
      "293/293 [==============================] - 40s 138ms/step - loss: 0.2524 - accuracy: 0.4036 - val_loss: 0.2602 - val_accuracy: 0.4191\n",
      "Epoch 2/12\n",
      "293/293 [==============================] - 41s 138ms/step - loss: 0.2504 - accuracy: 0.4081 - val_loss: 0.2588 - val_accuracy: 0.4254\n",
      "Epoch 3/12\n",
      "293/293 [==============================] - 48s 165ms/step - loss: 0.2493 - accuracy: 0.4109 - val_loss: 0.2574 - val_accuracy: 0.4281\n",
      "Epoch 4/12\n",
      "293/293 [==============================] - 44s 151ms/step - loss: 0.2477 - accuracy: 0.4197 - val_loss: 0.2560 - val_accuracy: 0.4339\n",
      "Epoch 5/12\n",
      "293/293 [==============================] - 40s 137ms/step - loss: 0.2469 - accuracy: 0.4170 - val_loss: 0.2549 - val_accuracy: 0.4337\n",
      "Epoch 6/12\n",
      "293/293 [==============================] - 40s 137ms/step - loss: 0.2454 - accuracy: 0.4242 - val_loss: 0.2536 - val_accuracy: 0.4410\n",
      "Epoch 7/12\n",
      "293/293 [==============================] - 40s 137ms/step - loss: 0.2442 - accuracy: 0.4222 - val_loss: 0.2526 - val_accuracy: 0.4374\n",
      "Epoch 8/12\n",
      "293/293 [==============================] - 41s 139ms/step - loss: 0.2435 - accuracy: 0.4267 - val_loss: 0.2515 - val_accuracy: 0.4442\n",
      "Epoch 9/12\n",
      "293/293 [==============================] - 40s 138ms/step - loss: 0.2422 - accuracy: 0.4318 - val_loss: 0.2504 - val_accuracy: 0.4486\n",
      "Epoch 10/12\n",
      "293/293 [==============================] - 40s 138ms/step - loss: 0.2411 - accuracy: 0.4332 - val_loss: 0.2493 - val_accuracy: 0.4493\n",
      "Epoch 11/12\n",
      "293/293 [==============================] - 40s 137ms/step - loss: 0.2398 - accuracy: 0.4385 - val_loss: 0.2482 - val_accuracy: 0.4547\n",
      "Epoch 12/12\n",
      "293/293 [==============================] - 38s 131ms/step - loss: 0.2394 - accuracy: 0.4365 - val_loss: 0.2473 - val_accuracy: 0.4575\n"
     ]
    }
   ],
   "source": [
    "train_history=model.fit(x_img_train_normalize, y_label_train_OneHot,\n",
    "                        validation_split=0.25,\n",
    "                        epochs=12, batch_size=128, verbose=1)\n",
    "train_history_MSE=model_MSE.fit(x_img_train_normalize, y_label_train_OneHot,\n",
    "                        validation_split=0.25,\n",
    "                        epochs=12, batch_size=128, verbose=1)         \n",
    "train_history_bc=model_bc.fit(x_img_train_normalize, y_label_train_OneHot,\n",
    "                        validation_split=0.25,\n",
    "                        epochs=12, batch_size=128, verbose=1)"
   ]
  },
  {
   "cell_type": "code",
   "execution_count": 22,
   "metadata": {},
   "outputs": [],
   "source": [
    "import matplotlib.pyplot as plt\n",
    "%matplotlib inline\n",
    "\n",
    "#定義一個繪圖函數\n",
    "def show_train_history(train_acc,test_acc):\n",
    "    plt.plot(train_history.history[train_acc])\n",
    "    plt.plot(train_history.history[test_acc])\n",
    "    plt.title('Train History')\n",
    "    plt.ylabel('Accuracy')\n",
    "    plt.xlabel('Epoch')\n",
    "    plt.legend(['train_acc', 'val_acc'], loc='upper left')\n",
    "    plt.show()\n",
    "    \n",
    "def show_train_history_MSE(train_acc,test_acc):\n",
    "    plt.plot(train_history_MSE.history[train_acc])\n",
    "    plt.plot(train_history_MSE.history[test_acc])\n",
    "    plt.title('Train History_MSE')\n",
    "    plt.ylabel('Accuracy')\n",
    "    plt.xlabel('Epoch')\n",
    "    plt.legend(['train_acc', 'val_acc'], loc='upper left')\n",
    "    plt.show()\n",
    "    \n",
    "def show_train_history_bc(train_acc,test_acc):\n",
    "    plt.plot(train_history_bc.history[train_acc])\n",
    "    plt.plot(train_history_bc.history[test_acc])\n",
    "    plt.title('Train History_bc')\n",
    "    plt.ylabel('Accuracy')\n",
    "    plt.xlabel('Epoch')\n",
    "    plt.legend(['train_acc', 'val_acc'], loc='upper left')\n",
    "    plt.show()"
   ]
  },
  {
   "cell_type": "code",
   "execution_count": 23,
   "metadata": {},
   "outputs": [
    {
     "data": {
      "image/png": "[encoded data removed]",
      "text/plain": [
       "<Figure size 432x288 with 1 Axes>"
      ]
     },
     "metadata": {
      "needs_background": "light"
     },
     "output_type": "display_data"
    },
    {
     "data": {
      "image/png": "[encoded data removed]",
      "text/plain": [
       "<Figure size 432x288 with 1 Axes>"
      ]
     },
     "metadata": {
      "needs_background": "light"
     },
     "output_type": "display_data"
    },
    {
     "data": {
      "image/png": "[encoded data removed]",
      "text/plain": [
       "<Figure size 432x288 with 1 Axes>"
      ]
     },
     "metadata": {
      "needs_background": "light"
     },
     "output_type": "display_data"
    }
   ],
   "source": [
    "show_train_history('accuracy','val_accuracy')\n",
    "show_train_history_MSE('accuracy','val_accuracy')\n",
    "show_train_history_bc('accuracy','val_accuracy')"
   ]
  },
  {
   "cell_type": "code",
   "execution_count": 24,
   "metadata": {},
   "outputs": [
    {
     "data": {
      "image/png": "[encoded data removed]",
      "text/plain": [
       "<Figure size 432x288 with 1 Axes>"
      ]
     },
     "metadata": {
      "needs_background": "light"
     },
     "output_type": "display_data"
    },
    {
     "data": {
      "image/png": "[encoded data removed]",
      "text/plain": [
       "<Figure size 432x288 with 1 Axes>"
      ]
     },
     "metadata": {
      "needs_background": "light"
     },
     "output_type": "display_data"
    },
    {
     "data": {
      "image/png": "[encoded data removed]",
      "text/plain": [
       "<Figure size 432x288 with 1 Axes>"
      ]
     },
     "metadata": {
      "needs_background": "light"
     },
     "output_type": "display_data"
    }
   ],
   "source": [
    "show_train_history('loss','val_loss')\n",
    "show_train_history_MSE('loss','val_loss')\n",
    "show_train_history_bc('loss','val_loss')"
   ]
  },
  {
   "cell_type": "code",
   "execution_count": 25,
   "metadata": {},
   "outputs": [
    {
     "name": "stdout",
     "output_type": "stream",
     "text": [
      "313/313 [==============================] - 2s 6ms/step - loss: 0.2455 - accuracy: 0.4637\n",
      "\n",
      "accuracy    = 0.46369999647140503\n",
      "313/313 [==============================] - 2s 6ms/step - loss: 0.2455 - accuracy: 0.4637\n",
      "\n",
      "accuracy_MSE= 0.46369999647140503\n",
      "313/313 [==============================] - 2s 6ms/step - loss: 0.2455 - accuracy: 0.4637\n",
      "\n",
      "accuracy_bc = 0.46369999647140503\n"
     ]
    }
   ],
   "source": [
    "scores = model.evaluate(x_img_test_normalize, y_label_test_OneHot)\n",
    "print()\n",
    "print('accuracy    =',scores[1])\n",
    "scores_MSE = model_MSE.evaluate(x_img_test_normalize, y_label_test_OneHot)\n",
    "print()\n",
    "print('accuracy_MSE=',scores_MSE[1])\n",
    "scores_bc = model_bc.evaluate(x_img_test_normalize, y_label_test_OneHot)\n",
    "print()\n",
    "print('accuracy_bc =',scores_bc[1])"
   ]
  }
 ],
 "metadata": {
  "colab": {
   "name": "Day71-使用損失函數_HW.ipynb",
   "provenance": [],
   "version": "0.3.2"
  },
  "kernelspec": {
   "display_name": "Python 3",
   "language": "python",
   "name": "python3"
  },
  "language_info": {
   "codemirror_mode": {
    "name": "ipython",
    "version": 3
   },
   "file_extension": ".py",
   "mimetype": "text/x-python",
   "name": "python",
   "nbconvert_exporter": "python",
   "pygments_lexer": "ipython3",
   "version": "3.8.5"
  }
 },
 "nbformat": 4,
 "nbformat_minor": 1
}
