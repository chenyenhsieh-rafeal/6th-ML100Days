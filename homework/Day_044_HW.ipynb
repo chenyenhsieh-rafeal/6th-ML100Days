{
 "cells": [
  {
   "cell_type": "markdown",
   "metadata": {},
   "source": [
    "## [作業重點]\n",
    "確保你了解隨機森林模型中每個超參數的意義，並觀察調整超參數對結果的影響"
   ]
  },
  {
   "cell_type": "markdown",
   "metadata": {},
   "source": [
    "## 作業\n",
    "\n",
    "1. 試著調整 RandomForestClassifier(...) 中的參數，並觀察是否會改變結果？\n",
    "2. 改用其他資料集 (boston, wine)，並與回歸模型與決策樹的結果進行比較"
   ]
  },
  {
   "cell_type": "code",
   "execution_count": 1,
   "metadata": {},
   "outputs": [],
   "source": [
    "from sklearn import datasets,metrics\n",
    "from sklearn.ensemble import RandomForestRegressor,RandomForestClassifier\n",
    "from sklearn.model_selection import train_test_split"
   ]
  },
  {
   "cell_type": "code",
   "execution_count": 2,
   "metadata": {},
   "outputs": [],
   "source": [
    "# 數值型結果 (決策樹參數皆採用預設)\n",
    "boston = datasets.load_boston()\n",
    "x_train,x_test,y_train,y_test = train_test_split(boston.data,boston.target,test_size = 0.25,random_state = 4)\n",
    "reg = RandomForestRegressor()\n",
    "reg.fit(x_train,y_train)\n",
    "y_pred = reg.predict(x_test)"
   ]
  },
  {
   "cell_type": "code",
   "execution_count": 3,
   "metadata": {},
   "outputs": [
    {
     "name": "stdout",
     "output_type": "stream",
     "text": [
      "['CRIM' 'ZN' 'INDUS' 'CHAS' 'NOX' 'RM' 'AGE' 'DIS' 'RAD' 'TAX' 'PTRATIO'\n",
      " 'B' 'LSTAT']\n"
     ]
    }
   ],
   "source": [
    "print(boston.feature_names)"
   ]
  },
  {
   "cell_type": "code",
   "execution_count": 4,
   "metadata": {},
   "outputs": [
    {
     "name": "stdout",
     "output_type": "stream",
     "text": [
      "Feature importance:  [0.05870336 0.00092604 0.00765122 0.0025792  0.01893604 0.45151455\n",
      " 0.01192121 0.04986044 0.00350235 0.01635641 0.01898411 0.01382707\n",
      " 0.345238  ]\n"
     ]
    }
   ],
   "source": [
    "print(\"Feature importance: \", reg.feature_importances_)"
   ]
  },
  {
   "cell_type": "code",
   "execution_count": 5,
   "metadata": {},
   "outputs": [
    {
     "name": "stdout",
     "output_type": "stream",
     "text": [
      "Accuracy score: 15.64999635433072\n"
     ]
    }
   ],
   "source": [
    "mse = metrics.mean_squared_error(y_test,y_pred)\n",
    "print(\"Accuracy score:\",mse)"
   ]
  },
  {
   "cell_type": "code",
   "execution_count": 6,
   "metadata": {},
   "outputs": [],
   "source": [
    "# 數值型結果 (決策樹參數 max_depth改變)\n",
    "boston = datasets.load_boston()\n",
    "x_train,x_test,y_train,y_test = train_test_split(boston.data,boston.target,test_size = 0.25,random_state = 4)\n",
    "reg = RandomForestRegressor(max_depth = 5)\n",
    "reg.fit(x_train,y_train)\n",
    "y_pred = reg.predict(x_test)"
   ]
  },
  {
   "cell_type": "code",
   "execution_count": 7,
   "metadata": {},
   "outputs": [
    {
     "name": "stdout",
     "output_type": "stream",
     "text": [
      "Accuracy score: 17.383726405822042\n"
     ]
    }
   ],
   "source": [
    "mse = metrics.mean_squared_error(y_test,y_pred)\n",
    "print(\"Accuracy score:\",mse)"
   ]
  },
  {
   "cell_type": "code",
   "execution_count": 8,
   "metadata": {},
   "outputs": [],
   "source": [
    "# 數值型結果 (決策樹參數 max_depth改變)\n",
    "boston = datasets.load_boston()\n",
    "x_train,x_test,y_train,y_test = train_test_split(boston.data,boston.target,test_size = 0.25,random_state = 4)\n",
    "reg = RandomForestRegressor(max_depth = 3)\n",
    "reg.fit(x_train,y_train)\n",
    "y_pred = reg.predict(x_test)"
   ]
  },
  {
   "cell_type": "code",
   "execution_count": 9,
   "metadata": {},
   "outputs": [
    {
     "name": "stdout",
     "output_type": "stream",
     "text": [
      "Accuracy score: 21.503720132437945\n"
     ]
    }
   ],
   "source": [
    "mse = metrics.mean_squared_error(y_test,y_pred)\n",
    "print(\"Accuracy score:\",mse)"
   ]
  },
  {
   "cell_type": "code",
   "execution_count": 10,
   "metadata": {},
   "outputs": [],
   "source": [
    "# 類別型結果 (決策樹參數皆採用預設)\n",
    "wine = datasets.load_wine()\n",
    "x_train,x_test,y_train,y_test = train_test_split(wine.data,wine.target,test_size = 0.25,random_state = 4)\n",
    "cla = RandomForestClassifier()\n",
    "cla.fit(x_train,y_train)\n",
    "y_pred = cla.predict(x_test)"
   ]
  },
  {
   "cell_type": "code",
   "execution_count": 11,
   "metadata": {},
   "outputs": [
    {
     "name": "stdout",
     "output_type": "stream",
     "text": [
      "['alcohol', 'malic_acid', 'ash', 'alcalinity_of_ash', 'magnesium', 'total_phenols', 'flavanoids', 'nonflavanoid_phenols', 'proanthocyanins', 'color_intensity', 'hue', 'od280/od315_of_diluted_wines', 'proline']\n"
     ]
    }
   ],
   "source": [
    "print(wine.feature_names)"
   ]
  },
  {
   "cell_type": "code",
   "execution_count": 12,
   "metadata": {},
   "outputs": [
    {
     "name": "stdout",
     "output_type": "stream",
     "text": [
      "Feature importance:  [0.09948978 0.03980989 0.01316445 0.03523301 0.03478796 0.05741201\n",
      " 0.13321199 0.0104259  0.02050709 0.16297758 0.06023064 0.14446938\n",
      " 0.18828031]\n"
     ]
    }
   ],
   "source": [
    "print(\"Feature importance: \", cla.feature_importances_)"
   ]
  },
  {
   "cell_type": "code",
   "execution_count": 13,
   "metadata": {},
   "outputs": [
    {
     "name": "stdout",
     "output_type": "stream",
     "text": [
      "Acuuracy score: 0.9777777777777777\n"
     ]
    }
   ],
   "source": [
    "acc = metrics.accuracy_score(y_test,y_pred)\n",
    "print(\"Acuuracy score:\",acc)"
   ]
  },
  {
   "cell_type": "code",
   "execution_count": 14,
   "metadata": {},
   "outputs": [],
   "source": [
    "# 類別型結果 (決策樹參數 max_depth改變)\n",
    "wine = datasets.load_wine()\n",
    "x_train,x_test,y_train,y_test = train_test_split(wine.data,wine.target,test_size = 0.25,random_state = 4)\n",
    "cla = RandomForestClassifier(max_depth = 5)\n",
    "cla.fit(x_train,y_train)\n",
    "y_pred = cla.predict(x_test)"
   ]
  },
  {
   "cell_type": "code",
   "execution_count": 15,
   "metadata": {},
   "outputs": [
    {
     "name": "stdout",
     "output_type": "stream",
     "text": [
      "Acuuracy score: 0.9777777777777777\n"
     ]
    }
   ],
   "source": [
    "acc = metrics.accuracy_score(y_test,y_pred)\n",
    "print(\"Acuuracy score:\",acc)"
   ]
  },
  {
   "cell_type": "code",
   "execution_count": 16,
   "metadata": {},
   "outputs": [],
   "source": [
    "# 類別型結果 (決策樹參數 max_depth改變)\n",
    "wine = datasets.load_wine()\n",
    "x_train,x_test,y_train,y_test = train_test_split(wine.data,wine.target,test_size = 0.25,random_state = 4)\n",
    "cla = RandomForestClassifier(max_depth = 3)\n",
    "cla.fit(x_train,y_train)\n",
    "y_pred = cla.predict(x_test)"
   ]
  },
  {
   "cell_type": "code",
   "execution_count": 17,
   "metadata": {},
   "outputs": [
    {
     "name": "stdout",
     "output_type": "stream",
     "text": [
      "Acuuracy score: 1.0\n"
     ]
    }
   ],
   "source": [
    "acc = metrics.accuracy_score(y_test,y_pred)\n",
    "print(\"Acuuracy score:\",acc)"
   ]
  }
 ],
 "metadata": {
  "kernelspec": {
   "display_name": "Python 3",
   "language": "python",
   "name": "python3"
  },
  "language_info": {
   "codemirror_mode": {
    "name": "ipython",
    "version": 3
   },
   "file_extension": ".py",
   "mimetype": "text/x-python",
   "name": "python",
   "nbconvert_exporter": "python",
   "pygments_lexer": "ipython3",
   "version": "3.8.3"
  }
 },
 "nbformat": 4,
 "nbformat_minor": 2
}
