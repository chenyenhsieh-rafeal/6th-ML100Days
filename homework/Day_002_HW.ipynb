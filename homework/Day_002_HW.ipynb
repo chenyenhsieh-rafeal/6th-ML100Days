{
 "cells": [
  {
   "cell_type": "markdown",
   "metadata": {},
   "source": [
    "## [作業目標]\n",
    "了解機器學習適合應用的領域與範疇。"
   ]
  },
  {
   "cell_type": "markdown",
   "metadata": {},
   "source": [
    "## [作業重點]\n",
    "透過瞭解機器學習的運作方式，找出非常適用機器學習應用的領域及其原因"
   ]
  },
  {
   "cell_type": "markdown",
   "metadata": {},
   "source": [
    "## 作業\n",
    "請找出一個你認為機器學習可以發光發熱的領域並闡述原因? "
   ]
  },
  {
   "cell_type": "code",
   "execution_count": null,
   "metadata": {},
   "outputs": [],
   "source": [
    "A: 我認為機器學習在人臉辨識的領域會有很大的幫助,因為只要給了足夠大的數據就可以讓激起自動去判別人類,甚至是每一個人，\n",
    "    這樣對於某些領域會有很大的幫助,例如在零售業,引入機器學習的機器後可以辨別出每一個客人,那就不需要再讓客人結帳,\n",
    "    可以直接透過人臉辨識的方式從其帳戶扣錢,對於警察也會很有幫助,在辦案需要找出案件關鍵人物時也可以透過機器學習的成果來幫忙。"
   ]
  }
 ],
 "metadata": {
  "kernelspec": {
   "display_name": "Python 3",
   "language": "python",
   "name": "python3"
  },
  "language_info": {
   "codemirror_mode": {
    "name": "ipython",
    "version": 3
   },
   "file_extension": ".py",
   "mimetype": "text/x-python",
   "name": "python",
   "nbconvert_exporter": "python",
   "pygments_lexer": "ipython3",
   "version": "3.8.3"
  }
 },
 "nbformat": 4,
 "nbformat_minor": 2
}
